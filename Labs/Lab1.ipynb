{
 "cells": [
  {
   "cell_type": "markdown",
   "source": [
    "# Lab 1\n",
    "## **Text processing**"
   ],
   "metadata": {
    "collapsed": false
   }
  },
  {
   "cell_type": "markdown",
   "source": [
    "## Exercise 1:\n",
    "Benchmark different language-detection algorithm by computing accuracy of each approach.\n",
    "- FastText\n",
    "- LangID\n",
    "- langDetect\n",
    "\n",
    "Hint: use language code conversion `iso639-lang`\n",
    "\n",
    "Report\n",
    "- Accuracy\n",
    "- Average time per example"
   ],
   "metadata": {
    "collapsed": false
   }
  },
  {
   "cell_type": "code",
   "execution_count": null,
   "outputs": [],
   "source": [
    "!wget https://raw.githubusercontent.com/MorenoLaQuatra/DeepNLP/main/practices/P1/langid_dataset.csv"
   ],
   "metadata": {
    "collapsed": false
   }
  },
  {
   "cell_type": "markdown",
   "source": [
    "## My code.."
   ],
   "metadata": {
    "collapsed": false
   }
  },
  {
   "cell_type": "code",
   "execution_count": null,
   "outputs": [],
   "source": [
    "# import\n",
    "import pandas as pd\n",
    "\n",
    "# read file\n",
    "corpus = pd.read_csv('langid_dataset.csv')"
   ],
   "metadata": {
    "collapsed": false
   }
  },
  {
   "cell_type": "code",
   "execution_count": null,
   "outputs": [],
   "source": [
    "# sneak peak\n",
    "corpus.head()"
   ],
   "metadata": {
    "collapsed": false
   }
  },
  {
   "cell_type": "code",
   "execution_count": 59,
   "outputs": [],
   "source": [
    "# accuracy function and format printing-function\n",
    "\n",
    "def acc(clf_fcn, corpus):\n",
    "    correct = 0\n",
    "    for text,lan in zip(corpus.Text, corpus.language):\n",
    "        try:\n",
    "            pred = clf_fcn(text)\n",
    "            if type(pred) == tuple: # langid_classify returns lang and prob\n",
    "                pred = pred[0]\n",
    "        except:\n",
    "            continue\n",
    "        else:\n",
    "            correct += (pred == Lang(lan).pt1)*1\n",
    "    return correct\n",
    "\n",
    "def output(method, corpus, correct, elapsed):\n",
    "    print(f'{method:s} \\nAccuracy: {correct/len(corpus):.3f}. Est time/sample: {elapsed/len(corpus)*1000:.3f} ms')"
   ],
   "metadata": {
    "collapsed": false
   }
  },
  {
   "cell_type": "code",
   "execution_count": null,
   "outputs": [],
   "source": [
    "import time\n",
    "#!pip install iso639-lang\n",
    "from iso639 import Lang"
   ],
   "metadata": {
    "collapsed": false
   }
  },
  {
   "cell_type": "code",
   "execution_count": 63,
   "outputs": [
    {
     "name": "stdout",
     "output_type": "stream",
     "text": [
      "FastText \n",
      "Accuracy: 0.922. Est time/sample: 0.301 ms\n"
     ]
    }
   ],
   "source": [
    "# FastText (fastlangid)\n",
    "from fastlangid import LID\n",
    "\n",
    "method = 'FastText'\n",
    "\n",
    "# fastText model\n",
    "fastText_clf = LID()\n",
    "\n",
    "# accuracy and timing\n",
    "start = time.time()\n",
    "correct = acc(fastText_clf.predict, corpus)\n",
    "elapsed = time.time() - start\n",
    "\n",
    "# print result\n",
    "output('FastText', corpus, correct, elapsed)"
   ],
   "metadata": {
    "collapsed": false
   }
  },
  {
   "cell_type": "code",
   "execution_count": 65,
   "outputs": [
    {
     "name": "stdout",
     "output_type": "stream",
     "text": [
      "LangID \n",
      "Accuracy: 0.954. Est time/sample: 2.746 ms\n"
     ]
    }
   ],
   "source": [
    "# LangID\n",
    "#!pip install langid\n",
    "import langid\n",
    "\n",
    "method = 'LangID'\n",
    "\n",
    "# accuracy and timing\n",
    "start = time.time()\n",
    "correct = acc(langid.classify, corpus)\n",
    "elapsed = time.time() - start\n",
    "\n",
    "# print result\n",
    "output(method, corpus,correct, elapsed)\n"
   ],
   "metadata": {
    "collapsed": false
   }
  },
  {
   "cell_type": "code",
   "execution_count": 66,
   "outputs": [
    {
     "name": "stdout",
     "output_type": "stream",
     "text": [
      "langdetect \n",
      "Accuracy: 0.844. Est time/sample: 7.897 ms\n"
     ]
    }
   ],
   "source": [
    "# langdetect\n",
    "#!pip install langdetect\n",
    "from langdetect import detect\n",
    "\n",
    "method = 'langdetect'\n",
    "\n",
    "# accuracy and timing\n",
    "start = time.time()\n",
    "correct = acc(detect, corpus)\n",
    "elapsed = time.time() - start\n",
    "\n",
    "# print result\n",
    "output(method, corpus, correct, elapsed)"
   ],
   "metadata": {
    "collapsed": false
   }
  }
 ],
 "metadata": {
  "kernelspec": {
   "display_name": "Python 3",
   "language": "python",
   "name": "python3"
  },
  "language_info": {
   "codemirror_mode": {
    "name": "ipython",
    "version": 2
   },
   "file_extension": ".py",
   "mimetype": "text/x-python",
   "name": "python",
   "nbconvert_exporter": "python",
   "pygments_lexer": "ipython2",
   "version": "2.7.6"
  }
 },
 "nbformat": 4,
 "nbformat_minor": 0
}
