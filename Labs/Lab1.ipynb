{
 "cells": [
  {
   "cell_type": "markdown",
   "source": [
    "# Lab 1\n",
    "## **Text processing**"
   ],
   "metadata": {
    "collapsed": false
   }
  },
  {
   "cell_type": "markdown",
   "source": [
    "## Exercise 1:\n",
    "Benchmark different language-detection algorithm by computing accuracy of each approach.\n",
    "- FastText\n",
    "- LangID\n",
    "- langDetect\n",
    "\n",
    "Hint: use language code conversion `iso639-lang`\n",
    "\n",
    "Report\n",
    "- Accuracy\n",
    "- Average time per example"
   ],
   "metadata": {
    "collapsed": false
   }
  },
  {
   "cell_type": "code",
   "execution_count": null,
   "outputs": [],
   "source": [
    "!wget https://raw.githubusercontent.com/MorenoLaQuatra/DeepNLP/main/practices/P1/langid_dataset.csv"
   ],
   "metadata": {
    "collapsed": false
   }
  },
  {
   "cell_type": "markdown",
   "source": [
    "### My code.."
   ],
   "metadata": {
    "collapsed": false
   }
  },
  {
   "cell_type": "code",
   "execution_count": 2,
   "outputs": [],
   "source": [
    "# import\n",
    "import pandas as pd\n",
    "\n",
    "# read file\n",
    "corpus = pd.read_csv('langid_dataset.csv')"
   ],
   "metadata": {
    "collapsed": false
   }
  },
  {
   "cell_type": "code",
   "execution_count": 3,
   "outputs": [
    {
     "data": {
      "text/plain": "                                                Text  language\n0  klement gottwaldi surnukeha palsameeriti ning ...  Estonian\n1  sebes joseph pereira thomas  på eng the jesuit...   Swedish\n2  ถนนเจริญกรุง อักษรโรมัน thanon charoen krung เ...      Thai\n3  விசாகப்பட்டினம் தமிழ்ச்சங்கத்தை இந்துப் பத்திர...     Tamil\n4  de spons behoort tot het geslacht haliclona en...     Dutch",
      "text/html": "<div>\n<style scoped>\n    .dataframe tbody tr th:only-of-type {\n        vertical-align: middle;\n    }\n\n    .dataframe tbody tr th {\n        vertical-align: top;\n    }\n\n    .dataframe thead th {\n        text-align: right;\n    }\n</style>\n<table border=\"1\" class=\"dataframe\">\n  <thead>\n    <tr style=\"text-align: right;\">\n      <th></th>\n      <th>Text</th>\n      <th>language</th>\n    </tr>\n  </thead>\n  <tbody>\n    <tr>\n      <th>0</th>\n      <td>klement gottwaldi surnukeha palsameeriti ning ...</td>\n      <td>Estonian</td>\n    </tr>\n    <tr>\n      <th>1</th>\n      <td>sebes joseph pereira thomas  på eng the jesuit...</td>\n      <td>Swedish</td>\n    </tr>\n    <tr>\n      <th>2</th>\n      <td>ถนนเจริญกรุง อักษรโรมัน thanon charoen krung เ...</td>\n      <td>Thai</td>\n    </tr>\n    <tr>\n      <th>3</th>\n      <td>விசாகப்பட்டினம் தமிழ்ச்சங்கத்தை இந்துப் பத்திர...</td>\n      <td>Tamil</td>\n    </tr>\n    <tr>\n      <th>4</th>\n      <td>de spons behoort tot het geslacht haliclona en...</td>\n      <td>Dutch</td>\n    </tr>\n  </tbody>\n</table>\n</div>"
     },
     "execution_count": 3,
     "metadata": {},
     "output_type": "execute_result"
    }
   ],
   "source": [
    "# sneak peak\n",
    "corpus.head()"
   ],
   "metadata": {
    "collapsed": false
   }
  },
  {
   "cell_type": "code",
   "execution_count": null,
   "outputs": [],
   "source": [
    "# accuracy function and format printing-function\n",
    "\n",
    "def acc(clf_fcn, corpus):\n",
    "    correct = 0\n",
    "    for text,lan in zip(corpus.Text, corpus.language):\n",
    "        try:\n",
    "            pred = clf_fcn(text)\n",
    "            if type(pred) == tuple: # langid_classify returns lang and prob\n",
    "                pred = pred[0]\n",
    "        except:\n",
    "            continue\n",
    "        else:\n",
    "            correct += (pred == Lang(lan).pt1)*1\n",
    "    return correct\n",
    "\n",
    "def output(method, corpus, correct, elapsed):\n",
    "    print(f'{method:s} \\nAccuracy: {correct/len(corpus):.3f}. Est time/sample: {elapsed/len(corpus)*1000:.3f} ms')"
   ],
   "metadata": {
    "collapsed": false
   }
  },
  {
   "cell_type": "code",
   "execution_count": null,
   "outputs": [],
   "source": [
    "import time\n",
    "#!pip install iso639-lang\n",
    "from iso639 import Lang"
   ],
   "metadata": {
    "collapsed": false
   }
  },
  {
   "cell_type": "code",
   "execution_count": null,
   "outputs": [],
   "source": [
    "# FastText (fastlangid)\n",
    "from fastlangid import LID\n",
    "\n",
    "method = 'FastText'\n",
    "\n",
    "# fastText model\n",
    "fastText_clf = LID()\n",
    "\n",
    "# accuracy and timing\n",
    "start = time.time()\n",
    "correct = acc(fastText_clf.predict, corpus)\n",
    "elapsed = time.time() - start\n",
    "\n",
    "# print result\n",
    "output('FastText', corpus, correct, elapsed)"
   ],
   "metadata": {
    "collapsed": false
   }
  },
  {
   "cell_type": "code",
   "execution_count": null,
   "outputs": [],
   "source": [
    "# LangID\n",
    "#!pip install langid\n",
    "import langid\n",
    "\n",
    "method = 'LangID'\n",
    "\n",
    "# accuracy and timing\n",
    "start = time.time()\n",
    "correct = acc(langid.classify, corpus)\n",
    "elapsed = time.time() - start\n",
    "\n",
    "# print result\n",
    "output(method, corpus,correct, elapsed)\n"
   ],
   "metadata": {
    "collapsed": false
   }
  },
  {
   "cell_type": "code",
   "execution_count": null,
   "outputs": [],
   "source": [
    "# langdetect\n",
    "#!pip install langdetect\n",
    "from langdetect import detect\n",
    "\n",
    "method = 'langdetect'\n",
    "\n",
    "# accuracy and timing\n",
    "start = time.time()\n",
    "correct = acc(detect, corpus)\n",
    "elapsed = time.time() - start\n",
    "\n",
    "# print result\n",
    "output(method, corpus, correct, elapsed)"
   ],
   "metadata": {
    "collapsed": false
   }
  },
  {
   "cell_type": "markdown",
   "source": [
    "## Exercise 2\n",
    "For English-written text, apply word-level tokenization. What is the average number of words per sentence?\n",
    "Implement word-tokenization using both nltk and spacy. Report the results for both of them.\n",
    "For spaCy use the en_core_web_sm model."
   ],
   "metadata": {
    "collapsed": false
   }
  },
  {
   "cell_type": "markdown",
   "source": [
    "### My code..."
   ],
   "metadata": {
    "collapsed": false
   }
  },
  {
   "cell_type": "code",
   "execution_count": 4,
   "outputs": [],
   "source": [
    "# find only english texts\n",
    "corpus_eng = corpus.loc[corpus.language=='English']"
   ],
   "metadata": {
    "collapsed": false
   }
  },
  {
   "cell_type": "code",
   "execution_count": 5,
   "outputs": [],
   "source": [
    "# imports\n",
    "#!pip install nltk\n",
    "import nltk\n",
    "#!pip install -U spacy\n",
    "#python -m spacy download en_core_web_sm (run in terminal)\n",
    "import spacy"
   ],
   "metadata": {
    "collapsed": false
   }
  },
  {
   "cell_type": "code",
   "execution_count": 45,
   "outputs": [
    {
     "name": "stdout",
     "output_type": "stream",
     "text": [
      "NLTK \n",
      "Average number of words/sentence: 68.75\n",
      "spaCy \n",
      "Average number of words/sentence: 72.33\n"
     ]
    }
   ],
   "source": [
    "# counting average number of words\n",
    "\n",
    "# nltk\n",
    "tot_words = 0\n",
    "for sentence in corpus_eng.Text:\n",
    "    tokens = nltk.word_tokenize(sentence)\n",
    "    tot_words += len(tokens)\n",
    "\n",
    "print(f'NLTK \\nAverage number of words/sentence: {tot_words/len(corpus_eng):.2f}')\n",
    "\n",
    "# spacy\n",
    "spacy_nlp = spacy.load(\"en_core_web_sm\", disable = ['parser','ner','tagger', 'attribute_ruler', 'lemmatizer']) # only using 'tok2vec'\n",
    "tot_words = 0\n",
    "for sentence in corpus_eng.Text:\n",
    "    doc = spacy_nlp(sentence)\n",
    "    sentence_words = 0\n",
    "    sentence_words += sum([1 for w in doc]) #includes \"space\" and \" - \"\n",
    "    tot_words += sentence_words\n",
    "\n",
    "print(f'spaCy \\nAverage number of words/sentence: {tot_words/len(corpus_eng):.2f}')\n",
    "\n"
   ],
   "metadata": {
    "collapsed": false
   }
  },
  {
   "cell_type": "code",
   "execution_count": 46,
   "outputs": [
    {
     "data": {
      "text/plain": "['tok2vec']"
     },
     "execution_count": 46,
     "metadata": {},
     "output_type": "execute_result"
    }
   ],
   "source": [
    "spacy_nlp.pipe_names"
   ],
   "metadata": {
    "collapsed": false
   }
  },
  {
   "cell_type": "markdown",
   "source": [
    "## Exercise 3\n",
    "\n",
    "Dependency Parsing aims at analyzing the grammatical structure of sentences. The main goal is to find out related words as well as the type of the relationship between them.\n",
    "The output of this step is a dependency tree similar to the one reported in the figure below.\n"
   ],
   "metadata": {
    "collapsed": false
   }
  },
  {
   "cell_type": "markdown",
   "source": [
    "Use spacy to parse the dependency tree of a **randomly selected** sentence. You can both use English sentences or your native language (if supported in [spaCy](https://spacy.io/usage/models/)). Use [displaCy](https://explosion.ai/demos/displacy) to visualize the result in the notebook."
   ],
   "metadata": {
    "collapsed": false
   }
  },
  {
   "cell_type": "code",
   "execution_count": 7,
   "outputs": [
    {
     "data": {
      "text/plain": "                                                    Text language\n37     in  johnson was awarded an american institute ...  English\n40     bussy-saint-georges has built its identity on ...  English\n76     minnesotas state parks are spread across the s...  English\n90     nordahl road is a station served by north coun...  English\n97     a talk by takis fotopoulos about the internati...  English\n...                                                  ...      ...\n21829  on march   empty mirrors press published epste...  English\n21879  he [musk] wants to go to mars to back up human...  English\n21896  overall the male is black above and white belo...  English\n21897  tim reynolds born  december  in wiesbaden germ...  English\n21951  the total high school population was now appro...  English\n\n[1000 rows x 2 columns]",
      "text/html": "<div>\n<style scoped>\n    .dataframe tbody tr th:only-of-type {\n        vertical-align: middle;\n    }\n\n    .dataframe tbody tr th {\n        vertical-align: top;\n    }\n\n    .dataframe thead th {\n        text-align: right;\n    }\n</style>\n<table border=\"1\" class=\"dataframe\">\n  <thead>\n    <tr style=\"text-align: right;\">\n      <th></th>\n      <th>Text</th>\n      <th>language</th>\n    </tr>\n  </thead>\n  <tbody>\n    <tr>\n      <th>37</th>\n      <td>in  johnson was awarded an american institute ...</td>\n      <td>English</td>\n    </tr>\n    <tr>\n      <th>40</th>\n      <td>bussy-saint-georges has built its identity on ...</td>\n      <td>English</td>\n    </tr>\n    <tr>\n      <th>76</th>\n      <td>minnesotas state parks are spread across the s...</td>\n      <td>English</td>\n    </tr>\n    <tr>\n      <th>90</th>\n      <td>nordahl road is a station served by north coun...</td>\n      <td>English</td>\n    </tr>\n    <tr>\n      <th>97</th>\n      <td>a talk by takis fotopoulos about the internati...</td>\n      <td>English</td>\n    </tr>\n    <tr>\n      <th>...</th>\n      <td>...</td>\n      <td>...</td>\n    </tr>\n    <tr>\n      <th>21829</th>\n      <td>on march   empty mirrors press published epste...</td>\n      <td>English</td>\n    </tr>\n    <tr>\n      <th>21879</th>\n      <td>he [musk] wants to go to mars to back up human...</td>\n      <td>English</td>\n    </tr>\n    <tr>\n      <th>21896</th>\n      <td>overall the male is black above and white belo...</td>\n      <td>English</td>\n    </tr>\n    <tr>\n      <th>21897</th>\n      <td>tim reynolds born  december  in wiesbaden germ...</td>\n      <td>English</td>\n    </tr>\n    <tr>\n      <th>21951</th>\n      <td>the total high school population was now appro...</td>\n      <td>English</td>\n    </tr>\n  </tbody>\n</table>\n<p>1000 rows × 2 columns</p>\n</div>"
     },
     "execution_count": 7,
     "metadata": {},
     "output_type": "execute_result"
    }
   ],
   "source": [
    "corpus_eng"
   ],
   "metadata": {
    "collapsed": false
   }
  },
  {
   "cell_type": "code",
   "execution_count": 52,
   "outputs": [],
   "source": [
    "# choose random sentence\n",
    "nlp = spacy.load(\"en_core_web_sm\")\n",
    "sentence = corpus_eng.sample(random_state=123).Text.iloc[0]\n",
    "doc = nlp(sentence)\n",
    "#spacy.displacy.serve(doc, style=\"dep\")"
   ],
   "metadata": {
    "collapsed": false
   }
  },
  {
   "cell_type": "markdown",
   "source": [
    "## Exercise 4\n",
    "For the same sentence selected in the previous step apply all the following steps:\n",
    "1. Lemmatization: convert each word to its root form.\n",
    "2. Stopword removal: remove language-specific stopwords.\n",
    "3. Part of Speech Tagging: for each word in the sentence display its part-of-speech.\n",
    "\n",
    "For each step, print the resulting list on the console."
   ],
   "metadata": {
    "collapsed": false
   }
  },
  {
   "cell_type": "code",
   "execution_count": 71,
   "outputs": [
    {
     "name": "stdout",
     "output_type": "stream",
     "text": [
      "['tok2vec', 'tagger', 'parser', 'attribute_ruler', 'lemmatizer', 'ner']\n",
      "\n",
      "Original sentence: \n",
      "wright took up a coaching role at guildford city following his retirement in  before holding similar positions at walsall and luton town he was named as head coach at everton in  and later coached the india youth team between  and  in preparation for the  afc youth championship in  he inherited syed abdul rahims india national team where wright led the side to the runners-up spot in the  asian cup which remains the most notable triumph in professional football for india\n"
     ]
    }
   ],
   "source": [
    "# what is included in pipeline\n",
    "print(f'{nlp.pipe_names}\\n')\n",
    "\n",
    "# original sentence\n",
    "print(f'Original sentence: \\n{sentence}')"
   ],
   "metadata": {
    "collapsed": false
   }
  },
  {
   "cell_type": "code",
   "execution_count": 70,
   "outputs": [
    {
     "name": "stdout",
     "output_type": "stream",
     "text": [
      "After lemmatization: \n",
      "wright take up a coach role at guildford city follow his retirement in   before hold similar position at walsall and luton town he be name as head coach at everton in   and later coach the india youth team between   and   in preparation for the   afc youth championship in   he inherit syed abdul rahim india national team where wright lead the side to the runner - up spot in the   asian cup which remain the most notable triumph in professional football for india\n"
     ]
    }
   ],
   "source": [
    "# 1. lemmatization\n",
    "doc = nlp(sentence)\n",
    "sentence_lemma = \" \".join([token.lemma_ for token in doc])\n",
    "print(f'After lemmatization: \\n{sentence_lemma}')"
   ],
   "metadata": {
    "collapsed": false
   }
  },
  {
   "cell_type": "code",
   "execution_count": 69,
   "outputs": [
    {
     "name": "stdout",
     "output_type": "stream",
     "text": [
      "After removal of stopwords \n",
      "wright coach role guildford city follow retirement hold similar position walsall luton town head coach everton later coach india youth team preparation afc youth championship inherit syed abdul rahim india national team wright lead runner - spot asian cup remain notable triumph professional football india\n"
     ]
    }
   ],
   "source": [
    "# 2. stopword removal\n",
    "stopwords = nlp.Defaults.stop_words\n",
    "sentence_wo_sw = \" \".join([w for w in sentence_lemma.split() if w not in stopwords])\n",
    "\n",
    "print(f'After removal of stopwords: \\n{sentence_wo_sw}')"
   ],
   "metadata": {
    "collapsed": false
   }
  },
  {
   "cell_type": "code",
   "execution_count": 76,
   "outputs": [
    {
     "name": "stdout",
     "output_type": "stream",
     "text": [
      "wright         , NOUN\n",
      "coach          , NOUN\n",
      "role           , NOUN\n",
      "guildford      , ADJ\n",
      "city           , NOUN\n",
      "follow         , VERB\n",
      "retirement     , NOUN\n",
      "hold           , VERB\n",
      "similar        , ADJ\n",
      "position       , NOUN\n",
      "walsall        , PROPN\n",
      "luton          , PROPN\n",
      "town           , PROPN\n",
      "head           , PROPN\n",
      "coach          , NOUN\n",
      "everton        , PROPN\n",
      "later          , ADJ\n",
      "coach          , PROPN\n",
      "india          , PROPN\n",
      "youth          , PROPN\n",
      "team           , NOUN\n",
      "preparation    , PROPN\n",
      "afc            , PROPN\n",
      "youth          , PROPN\n",
      "championship   , PROPN\n",
      "inherit        , PROPN\n",
      "syed           , VERB\n",
      "abdul          , PROPN\n",
      "rahim          , PROPN\n",
      "india          , PROPN\n",
      "national       , PROPN\n",
      "team           , NOUN\n",
      "wright         , NOUN\n",
      "lead           , VERB\n",
      "runner         , NOUN\n",
      "-              , PUNCT\n",
      "spot           , NOUN\n",
      "asian          , ADJ\n",
      "cup            , NOUN\n",
      "remain         , VERB\n",
      "notable        , ADJ\n",
      "triumph        , PROPN\n",
      "professional   , PROPN\n",
      "football       , NOUN\n",
      "india          , PROPN\n"
     ]
    }
   ],
   "source": [
    "# 3. POS\n",
    "\n",
    "# use latest version of sentence in doc\n",
    "doc = nlp(sentence_wo_sw)\n",
    "for token in doc:\n",
    "    print(f'{token.text:{15}}, {token.pos_}')\n"
   ],
   "metadata": {
    "collapsed": false
   }
  },
  {
   "cell_type": "code",
   "execution_count": 72,
   "outputs": [
    {
     "data": {
      "text/plain": "['tok2vec', 'tagger', 'parser', 'attribute_ruler', 'lemmatizer', 'ner']"
     },
     "execution_count": 72,
     "metadata": {},
     "output_type": "execute_result"
    }
   ],
   "source": [],
   "metadata": {
    "collapsed": false
   }
  },
  {
   "cell_type": "code",
   "execution_count": null,
   "outputs": [],
   "source": [],
   "metadata": {
    "collapsed": false
   }
  }
 ],
 "metadata": {
  "kernelspec": {
   "display_name": "Python 3",
   "language": "python",
   "name": "python3"
  },
  "language_info": {
   "codemirror_mode": {
    "name": "ipython",
    "version": 2
   },
   "file_extension": ".py",
   "mimetype": "text/x-python",
   "name": "python",
   "nbconvert_exporter": "python",
   "pygments_lexer": "ipython2",
   "version": "2.7.6"
  }
 },
 "nbformat": 4,
 "nbformat_minor": 0
}
